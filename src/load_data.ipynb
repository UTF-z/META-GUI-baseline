{
 "cells": [
  {
   "cell_type": "code",
   "execution_count": 9,
   "metadata": {},
   "outputs": [
    {
     "name": "stderr",
     "output_type": "stream",
     "text": [
      "/Users/bytedance/softwares/mambaforge/envs/chatglm/lib/python3.10/site-packages/transformers/models/vit/feature_extraction_vit.py:28: FutureWarning: The class ViTFeatureExtractor is deprecated and will be removed in version 5 of Transformers. Please use ViTImageProcessor instead.\n",
      "  warnings.warn(\n",
      "/Users/bytedance/softwares/mambaforge/envs/chatglm/lib/python3.10/site-packages/transformers/tokenization_utils_base.py:1601: FutureWarning: `clean_up_tokenization_spaces` was not set. It will be set to `True` by default. This behavior will be depracted in transformers v4.45, and will be then set to `False` by default. For more details check this issue: https://github.com/huggingface/transformers/issues/31884\n",
      "  warnings.warn(\n"
     ]
    }
   ],
   "source": [
    "import sys\n",
    "import os\n",
    "from dataloader import reply_data_loader, action_data_loader\n",
    "from config import Config\n",
    "import torch\n",
    "from transformers import AutoTokenizer\n",
    "from matplotlib import pyplot as plt\n",
    "from DataProcessing import ActionToIdx\n",
    "\n",
    "config = Config()\n",
    "config.multi_modal = True\n",
    "config.history = 'all'\n",
    "rd = reply_data_loader(1, 'dataset/test/data.json', config=config, train=False)\n",
    "ard = action_data_loader(1, 'dataset/test/data.json', config=config, train=False)\n",
    "batch1 = next(rd)\n",
    "abatch1 = next(ard)"
   ]
  },
  {
   "cell_type": "code",
   "execution_count": 10,
   "metadata": {},
   "outputs": [],
   "source": [
    "tokenizer = AutoTokenizer.from_pretrained(\"microsoft/layoutlm-base-uncased\", use_fast=False)\n",
    "input_id, ainput_id = batch1[0], abatch1[1]"
   ]
  },
  {
   "cell_type": "code",
   "execution_count": 11,
   "metadata": {},
   "outputs": [],
   "source": [
    "from model import *\n",
    "from config import Config\n",
    "config = Config()\n",
    "config.history = 'all'\n",
    "model = MultiModalResponseModelWithHistory(config)"
   ]
  },
  {
   "cell_type": "code",
   "execution_count": 12,
   "metadata": {},
   "outputs": [],
   "source": [
    "input_id, img, attention_masks, token_type_ids, bbox_s, reply_text = batch1"
   ]
  },
  {
   "cell_type": "code",
   "execution_count": 13,
   "metadata": {},
   "outputs": [],
   "source": [
    "feature = model.encoder_model(input_ids=input_id, bbox=bbox_s, attention_mask=attention_masks, token_type_ids=token_type_ids)"
   ]
  },
  {
   "cell_type": "code",
   "execution_count": 14,
   "metadata": {},
   "outputs": [],
   "source": [
    "encoder_outputs = feature.last_hidden_state"
   ]
  },
  {
   "cell_type": "code",
   "execution_count": 15,
   "metadata": {},
   "outputs": [],
   "source": [
    "image_output_his1 = model.resnet_fpn_forward(img[0].unsqueeze(0), bbox_s)"
   ]
  },
  {
   "cell_type": "code",
   "execution_count": 16,
   "metadata": {},
   "outputs": [
    {
     "name": "stdout",
     "output_type": "stream",
     "text": [
      "query: torch.Size([1, 12, 151, 64])\n",
      "haha: (torch.Size([1, 12, 151, 151]), torch.Size([1, 1, 1, 151]))\n",
      "query: torch.Size([1, 12, 151, 64])\n",
      "haha: (torch.Size([1, 12, 151, 151]), torch.Size([1, 1, 1, 151]))\n",
      "query: torch.Size([1, 12, 151, 64])\n",
      "haha: (torch.Size([1, 12, 151, 151]), torch.Size([1, 1, 1, 151]))\n"
     ]
    },
    {
     "data": {
      "text/plain": [
       "tensor(10.7002, grad_fn=<NllLossBackward0>)"
      ]
     },
     "execution_count": 16,
     "metadata": {},
     "output_type": "execute_result"
    }
   ],
   "source": [
    "model(input_id, img, bbox_s, attention_masks, token_type_ids, reply_text)"
   ]
  },
  {
   "cell_type": "code",
   "execution_count": 18,
   "metadata": {},
   "outputs": [
    {
     "data": {
      "text/plain": [
       "'[CLS] [SEP]'"
      ]
     },
     "execution_count": 18,
     "metadata": {},
     "output_type": "execute_result"
    }
   ],
   "source": [
    "tokenizer.decode(tokenizer('', padding=True)['input_ids'])"
   ]
  }
 ],
 "metadata": {
  "kernelspec": {
   "display_name": "chatglm",
   "language": "python",
   "name": "python3"
  },
  "language_info": {
   "codemirror_mode": {
    "name": "ipython",
    "version": 3
   },
   "file_extension": ".py",
   "mimetype": "text/x-python",
   "name": "python",
   "nbconvert_exporter": "python",
   "pygments_lexer": "ipython3",
   "version": "3.10.14"
  }
 },
 "nbformat": 4,
 "nbformat_minor": 2
}
